{
 "cells": [
  {
   "cell_type": "markdown",
   "metadata": {},
   "source": [
    "# Lab 2: numpy\n",
    "\n",
    "#### Practice Exercise 1\n",
    "\n",
    "Create the following NumPy arrays: \n",
    "1. A 1-D array called zeros having 10 elements and all the elements are set to zero. \n",
    "2. A 1-D array called vowels having the elements ‘a’, ‘e’, ‘i’, ‘o’ and ‘u’. \n",
    "3. A 2-D array called ones having 2 rows and 5 columns and all the elements are set to 1 and dtype as int. \n",
    "4. Use nested Python lists to create a 2-D array called myarray1 having 3 rows and 3 columns and store the following data: 2.7,  0,  -2,  3.4,  10.6,  0,  -19 99.9 13 \n",
    "5. A 2-D array called myarray2 using arange() having 3 rows and 5 columns with start value = 4, step size 4 and dtype as float\n"
   ]
  },
  {
   "cell_type": "code",
   "execution_count": 13,
   "metadata": {},
   "outputs": [
    {
     "data": {
      "text/plain": [
       "array(['a', 'e', 'i', 'o', 'u'], dtype='<U1')"
      ]
     },
     "execution_count": 13,
     "metadata": {},
     "output_type": "execute_result"
    }
   ],
   "source": [
    "# Write your answer here\n",
    "import numpy as np\n",
    "# zeros = np.array([0,0,0,0,0,0,0,0,0,0])\n",
    "zeros = np.zeros(10, dtype = int)\n",
    "zeros\n",
    "# zeros.dtype\n",
    "\n",
    "# ones = np.ones(10)\n",
    "# ones"
   ]
  },
  {
   "cell_type": "code",
   "execution_count": 14,
   "metadata": {},
   "outputs": [
    {
     "data": {
      "text/plain": [
       "array(['a', 'e', 'i', 'o', 'u'], dtype='<U1')"
      ]
     },
     "execution_count": 14,
     "metadata": {},
     "output_type": "execute_result"
    }
   ],
   "source": [
    "vowels = np.array(['a','e','i', 'o','u'])\n",
    "vowels"
   ]
  },
  {
   "cell_type": "code",
   "execution_count": 22,
   "metadata": {},
   "outputs": [
    {
     "data": {
      "text/plain": [
       "array([[1, 1, 1, 1, 1],\n",
       "       [1, 1, 1, 1, 1]])"
      ]
     },
     "execution_count": 22,
     "metadata": {},
     "output_type": "execute_result"
    }
   ],
   "source": [
    "ones = np.ones(10, dtype = int).reshape(2, 5)\n",
    "ones"
   ]
  },
  {
   "cell_type": "code",
   "execution_count": 25,
   "metadata": {},
   "outputs": [
    {
     "data": {
      "text/plain": [
       "array([[  2.7,   0. ,  -2. ],\n",
       "       [  3.4,  10.6,   0. ],\n",
       "       [-19. ,  99.9,  13. ]])"
      ]
     },
     "execution_count": 25,
     "metadata": {},
     "output_type": "execute_result"
    }
   ],
   "source": [
    "myarray1 = np.array([[2.7, 0, -2],[3.4, 10.6, 0],[-19, 99.9, 13]])\n",
    "# myarray1 = np.array([[2.7, 0, -2],[3.4, 10.6, 0],[-19, 99.9, 13]]).reshape(3,3)\n",
    "myarray1"
   ]
  },
  {
   "cell_type": "code",
   "execution_count": 30,
   "metadata": {},
   "outputs": [
    {
     "data": {
      "text/plain": [
       "array([[ 4.,  8., 12., 16., 20.],\n",
       "       [24., 28., 32., 36., 40.],\n",
       "       [44., 48., 52., 56., 60.]])"
      ]
     },
     "execution_count": 30,
     "metadata": {},
     "output_type": "execute_result"
    }
   ],
   "source": [
    "myarray2 = np.arange(4, 4 + 15*4,4, dtype = float).reshape(3,5)\n",
    "myarray2"
   ]
  },
  {
   "cell_type": "markdown",
   "metadata": {},
   "source": [
    "Using the arrays created in Question above, write NumPy commands for the following: \n",
    "1. Find the dimensions, shape, size, data type of the items and itemsize of arrays zeros, vowels, ones, myarray1 and myarray2. \n",
    "2. Reshape the array ones to have all the 10 elements in a single row. \n",
    "3. Display the 2nd and 3rd element of the array vowels. \n",
    "4. Display all elements in the 2nd and 3rd row of the array myarray1. \n",
    "5. Display the elements in the 1st and 2nd column of the array myarray1. \n",
    "6. Display the elements in the 1st column of the 2nd and 3rd row of the array myarray1. \n",
    "7. Reverse the array of vowels."
   ]
  },
  {
   "cell_type": "code",
   "execution_count": 43,
   "metadata": {},
   "outputs": [
    {
     "data": {
      "text/plain": [
       "(2, 15, dtype('float64'), 8, (3, 5))"
      ]
     },
     "execution_count": 43,
     "metadata": {},
     "output_type": "execute_result"
    }
   ],
   "source": [
    "#Write your answer here\n",
    "\n",
    "myarray2.ndim, myarray2.size, myarray2.dtype, myarray2.itemsize, myarray2.shape"
   ]
  },
  {
   "cell_type": "code",
   "execution_count": 44,
   "metadata": {},
   "outputs": [
    {
     "data": {
      "text/plain": [
       "(1, 10)"
      ]
     },
     "execution_count": 44,
     "metadata": {},
     "output_type": "execute_result"
    }
   ],
   "source": [
    "ones.reshape(1,10)\n",
    "ones.shape"
   ]
  },
  {
   "cell_type": "code",
   "execution_count": 53,
   "metadata": {},
   "outputs": [
    {
     "data": {
      "text/plain": [
       "array(['e', 'i'], dtype='<U1')"
      ]
     },
     "execution_count": 53,
     "metadata": {},
     "output_type": "execute_result"
    }
   ],
   "source": [
    "q3 = vowels[1:3]"
   ]
  },
  {
   "cell_type": "code",
   "execution_count": 54,
   "metadata": {},
   "outputs": [
    {
     "data": {
      "text/plain": [
       "array([[  3.4,  10.6,   0. ],\n",
       "       [-19. ,  99.9,  13. ]])"
      ]
     },
     "execution_count": 54,
     "metadata": {},
     "output_type": "execute_result"
    }
   ],
   "source": [
    "q4 = myarray1[1:3,]"
   ]
  },
  {
   "cell_type": "code",
   "execution_count": 59,
   "metadata": {},
   "outputs": [
    {
     "data": {
      "text/plain": [
       "array([[  2.7,   0. ],\n",
       "       [  3.4,  10.6],\n",
       "       [-19. ,  99.9]])"
      ]
     },
     "execution_count": 59,
     "metadata": {},
     "output_type": "execute_result"
    }
   ],
   "source": [
    "q5 = myarray1[:, 0:2]\n",
    "q5"
   ]
  },
  {
   "cell_type": "code",
   "execution_count": 65,
   "metadata": {},
   "outputs": [
    {
     "data": {
      "text/plain": [
       "array([[  3.4],\n",
       "       [-19. ]])"
      ]
     },
     "execution_count": 65,
     "metadata": {},
     "output_type": "execute_result"
    }
   ],
   "source": [
    "q6 = myarray1[1:3, 0:1]\n",
    "q6"
   ]
  },
  {
   "cell_type": "code",
   "execution_count": 69,
   "metadata": {},
   "outputs": [
    {
     "data": {
      "text/plain": [
       "array(['u', 'o', 'i', 'e', 'a'], dtype='<U1')"
      ]
     },
     "execution_count": 69,
     "metadata": {},
     "output_type": "execute_result"
    }
   ],
   "source": [
    "# q7 = np.flip(vowels)\n",
    "q7 = vowels[::-1]\n",
    "q7"
   ]
  },
  {
   "cell_type": "markdown",
   "metadata": {},
   "source": [
    "Using the arrays created in Question above, write NumPy commands for the following:\n",
    "1. Divide all elements of array ones by 3. \n",
    "2. Add the arrays myarray1 and myarray2. \n",
    "3. Subtract myarray1 from myarray2 and store the result in a new array. \n",
    "4. Multiply myarray1 and myarray2 elementwise. \n",
    "5. Do the matrix multiplication of myarray1 and myarray2 and store the result in a new array myarray3. \n",
    "6. Divide myarray1 by myarray2. \n",
    "7. Find the cube of all elements of myarray1 and divide the resulting array by 2. \n",
    "8. Find the square root of all elements of myarray2   and divide the resulting array by 2. The result  should be rounded to two places of decimals."
   ]
  },
  {
   "cell_type": "code",
   "execution_count": 70,
   "metadata": {},
   "outputs": [
    {
     "data": {
      "text/plain": [
       "array([[0.33333333, 0.33333333, 0.33333333, 0.33333333, 0.33333333,\n",
       "        0.33333333, 0.33333333, 0.33333333, 0.33333333, 0.33333333]])"
      ]
     },
     "execution_count": 70,
     "metadata": {},
     "output_type": "execute_result"
    }
   ],
   "source": [
    "# Write your answer here\n",
    "q1 = ones/3"
   ]
  },
  {
   "cell_type": "code",
   "execution_count": 75,
   "metadata": {},
   "outputs": [
    {
     "data": {
      "text/plain": [
       "array([[  6.7,   8. ,  10. ],\n",
       "       [ 27.4,  38.6,  32. ],\n",
       "       [ 25. , 147.9,  65. ]])"
      ]
     },
     "execution_count": 75,
     "metadata": {},
     "output_type": "execute_result"
    }
   ],
   "source": [
    "q2 = myarray2[:, :3] + myarray1\n",
    "q2"
   ]
  },
  {
   "cell_type": "code",
   "execution_count": 78,
   "metadata": {},
   "outputs": [
    {
     "data": {
      "text/plain": [
       "array([[  1.3,   8. ,  14. ],\n",
       "       [ 20.6,  17.4,  32. ],\n",
       "       [ 63. , -51.9,  39. ]])"
      ]
     },
     "execution_count": 78,
     "metadata": {},
     "output_type": "execute_result"
    }
   ],
   "source": [
    "q3 = myarray2[:, :3] - myarray1\n",
    "q3"
   ]
  },
  {
   "cell_type": "code",
   "execution_count": 117,
   "metadata": {},
   "outputs": [
    {
     "data": {
      "text/plain": [
       "array([[  10.8,    0. ,  -24. ],\n",
       "       [  81.6,  296.8,    0. ],\n",
       "       [-836. , 4795.2,  676. ]])"
      ]
     },
     "execution_count": 117,
     "metadata": {},
     "output_type": "execute_result"
    }
   ],
   "source": [
    "q4 = myarray1 * myarray2[:, :3]\n",
    "q4"
   ]
  },
  {
   "cell_type": "code",
   "execution_count": 118,
   "metadata": {},
   "outputs": [
    {
     "data": {
      "text/plain": [
       "array([[ -77.2,  -74.4,  -71.6,  -68.8,  -66. ],\n",
       "       [ 268. ,  324. ,  380. ,  436. ,  492. ],\n",
       "       [2893.6, 3269.2, 3644.8, 4020.4, 4396. ]])"
      ]
     },
     "execution_count": 118,
     "metadata": {},
     "output_type": "execute_result"
    }
   ],
   "source": [
    "#q5\n",
    "myarray3 = np.dot(myarray1, myarray2)\n",
    "myarray3"
   ]
  },
  {
   "cell_type": "code",
   "execution_count": 120,
   "metadata": {},
   "outputs": [
    {
     "data": {
      "text/plain": [
       "array([[ 0.675     ,  0.        , -0.16666667],\n",
       "       [ 0.14166667,  0.37857143,  0.        ],\n",
       "       [-0.43181818,  2.08125   ,  0.25      ]])"
      ]
     },
     "execution_count": 120,
     "metadata": {},
     "output_type": "execute_result"
    }
   ],
   "source": [
    "q6 = myarray1 / myarray2[:, :3]\n",
    "q6"
   ]
  },
  {
   "cell_type": "code",
   "execution_count": 79,
   "metadata": {},
   "outputs": [
    {
     "data": {
      "text/plain": [
       "array([[ 9.841500e+00,  0.000000e+00, -4.000000e+00],\n",
       "       [ 1.965200e+01,  5.955080e+02,  0.000000e+00],\n",
       "       [-3.429500e+03,  4.985015e+05,  1.098500e+03]])"
      ]
     },
     "execution_count": 79,
     "metadata": {},
     "output_type": "execute_result"
    }
   ],
   "source": [
    "q7 = (myarray1 ** 3)/2\n",
    "q7"
   ]
  },
  {
   "cell_type": "code",
   "execution_count": 83,
   "metadata": {},
   "outputs": [
    {
     "data": {
      "text/plain": [
       "array([[1.  , 1.41, 1.73, 2.  , 2.24],\n",
       "       [2.45, 2.65, 2.83, 3.  , 3.16],\n",
       "       [3.32, 3.46, 3.61, 3.74, 3.87]])"
      ]
     },
     "execution_count": 83,
     "metadata": {},
     "output_type": "execute_result"
    }
   ],
   "source": [
    "q8 = np.round(np.sqrt(myarray2)/2,2)\n",
    "q8"
   ]
  },
  {
   "cell_type": "markdown",
   "metadata": {},
   "source": [
    "Using the arrays created above, write NumPy commands for the following: \n",
    "1. Find the transpose of ones and myarray2. \n",
    "2. Sort the array vowels in reverse. \n",
    "3. Sort the array myarray1 such that it brings the lowest value of the column in the first row and so on."
   ]
  },
  {
   "cell_type": "code",
   "execution_count": 88,
   "metadata": {},
   "outputs": [
    {
     "data": {
      "text/plain": [
       "array([[ 4., 24., 44.],\n",
       "       [ 8., 28., 48.],\n",
       "       [12., 32., 52.],\n",
       "       [16., 36., 56.],\n",
       "       [20., 40., 60.]])"
      ]
     },
     "execution_count": 88,
     "metadata": {},
     "output_type": "execute_result"
    }
   ],
   "source": [
    "# Write your answer here\n",
    "q1 = myarray2.T\n",
    "q1\n",
    "# np.transpose(myarray2)\n"
   ]
  },
  {
   "cell_type": "code",
   "execution_count": 89,
   "metadata": {},
   "outputs": [
    {
     "data": {
      "text/plain": [
       "array(['u', 'o', 'i', 'e', 'a'], dtype='<U1')"
      ]
     },
     "execution_count": 89,
     "metadata": {},
     "output_type": "execute_result"
    }
   ],
   "source": [
    "q2 = vowels[::-1]\n",
    "q2"
   ]
  },
  {
   "cell_type": "code",
   "execution_count": 94,
   "metadata": {},
   "outputs": [
    {
     "name": "stdout",
     "output_type": "stream",
     "text": [
      "[[  2.7   0.   -2. ]\n",
      " [  3.4  10.6   0. ]\n",
      " [-19.   99.9  13. ]]\n",
      "[[ -2.    0.    2.7]\n",
      " [  0.    3.4  10.6]\n",
      " [-19.   13.   99.9]]\n",
      "[[-19.    0.   -2. ]\n",
      " [  2.7  10.6   0. ]\n",
      " [  3.4  99.9  13. ]]\n"
     ]
    }
   ],
   "source": [
    "# 0 by columns and 1 by rows\n",
    "print(myarray1)\n",
    "print(np.sort(myarray1))\n",
    "print(np.sort(myarray1, 0))"
   ]
  },
  {
   "cell_type": "markdown",
   "metadata": {},
   "source": [
    "Create a 2-D array called myarray4 using arange() having 14 rows and 3 columns with start value = -1, step size 0.25 having. Split this array row wise into 3 equal parts and print the result. "
   ]
  },
  {
   "cell_type": "code",
   "execution_count": 100,
   "metadata": {},
   "outputs": [
    {
     "data": {
      "text/plain": [
       "[array([[-1.  , -0.75, -0.5 ],\n",
       "        [-0.25,  0.  ,  0.25],\n",
       "        [ 0.5 ,  0.75,  1.  ],\n",
       "        [ 1.25,  1.5 ,  1.75],\n",
       "        [ 2.  ,  2.25,  2.5 ]]),\n",
       " array([[2.75, 3.  , 3.25],\n",
       "        [3.5 , 3.75, 4.  ],\n",
       "        [4.25, 4.5 , 4.75],\n",
       "        [5.  , 5.25, 5.5 ],\n",
       "        [5.75, 6.  , 6.25]]),\n",
       " array([[6.5 , 6.75, 7.  ],\n",
       "        [7.25, 7.5 , 7.75],\n",
       "        [8.  , 8.25, 8.5 ],\n",
       "        [8.75, 9.  , 9.25]])]"
      ]
     },
     "execution_count": 100,
     "metadata": {},
     "output_type": "execute_result"
    }
   ],
   "source": [
    "# Write your answer here\n",
    "myarray4 = np.arange(-1, -1+0.25*42, 0.25).reshape(14,3)\n",
    "np.array_split(myarray4, 3)"
   ]
  },
  {
   "cell_type": "markdown",
   "metadata": {},
   "source": [
    "Using the myarray4 created in the above questions, write commands for the following: \n",
    "1. Find the sum of all elements. \n",
    "2. Find the sum of all elements row wise\n",
    "3. Find the sum of all elements column wise. \n",
    "4. Find the max of all elements. \n",
    "5. Find the min of all elements in each row. \n",
    "6. Find the mean of all elements in each row. \n",
    "7. Find the standard deviation column wise."
   ]
  },
  {
   "cell_type": "code",
   "execution_count": 121,
   "metadata": {},
   "outputs": [
    {
     "data": {
      "text/plain": [
       "173.25"
      ]
     },
     "execution_count": 121,
     "metadata": {},
     "output_type": "execute_result"
    }
   ],
   "source": [
    "# Write your ansewr here\n",
    "q1 = np.sum(myarray4)\n",
    "q1"
   ]
  },
  {
   "cell_type": "code",
   "execution_count": 122,
   "metadata": {},
   "outputs": [
    {
     "data": {
      "text/plain": [
       "array([[-1.  , -0.75, -0.5 ],\n",
       "       [-0.25,  0.  ,  0.25],\n",
       "       [ 0.5 ,  0.75,  1.  ],\n",
       "       [ 1.25,  1.5 ,  1.75],\n",
       "       [ 2.  ,  2.25,  2.5 ],\n",
       "       [ 2.75,  3.  ,  3.25],\n",
       "       [ 3.5 ,  3.75,  4.  ],\n",
       "       [ 4.25,  4.5 ,  4.75],\n",
       "       [ 5.  ,  5.25,  5.5 ],\n",
       "       [ 5.75,  6.  ,  6.25],\n",
       "       [ 6.5 ,  6.75,  7.  ],\n",
       "       [ 7.25,  7.5 ,  7.75],\n",
       "       [ 8.  ,  8.25,  8.5 ],\n",
       "       [ 8.75,  9.  ,  9.25]])"
      ]
     },
     "execution_count": 122,
     "metadata": {},
     "output_type": "execute_result"
    }
   ],
   "source": [
    "myarray4"
   ]
  },
  {
   "cell_type": "code",
   "execution_count": 124,
   "metadata": {},
   "outputs": [
    {
     "data": {
      "text/plain": [
       "array([-2.25,  0.  ,  2.25,  4.5 ,  6.75,  9.  , 11.25, 13.5 , 15.75,\n",
       "       18.  , 20.25, 22.5 , 24.75, 27.  ])"
      ]
     },
     "execution_count": 124,
     "metadata": {},
     "output_type": "execute_result"
    }
   ],
   "source": [
    "q2 = np.sum(myarray4, axis=1)\n",
    "q2"
   ]
  },
  {
   "cell_type": "code",
   "execution_count": 125,
   "metadata": {},
   "outputs": [
    {
     "data": {
      "text/plain": [
       "array([54.25, 57.75, 61.25])"
      ]
     },
     "execution_count": 125,
     "metadata": {},
     "output_type": "execute_result"
    }
   ],
   "source": [
    "q3 = np.sum(myarray4, axis=0)\n",
    "q3"
   ]
  },
  {
   "cell_type": "code",
   "execution_count": 126,
   "metadata": {},
   "outputs": [
    {
     "data": {
      "text/plain": [
       "9.25"
      ]
     },
     "execution_count": 126,
     "metadata": {},
     "output_type": "execute_result"
    }
   ],
   "source": [
    "q4 = np.max(myarray4)\n",
    "q4"
   ]
  },
  {
   "cell_type": "code",
   "execution_count": 127,
   "metadata": {},
   "outputs": [
    {
     "data": {
      "text/plain": [
       "array([-1.  , -0.25,  0.5 ,  1.25,  2.  ,  2.75,  3.5 ,  4.25,  5.  ,\n",
       "        5.75,  6.5 ,  7.25,  8.  ,  8.75])"
      ]
     },
     "execution_count": 127,
     "metadata": {},
     "output_type": "execute_result"
    }
   ],
   "source": [
    "q5 = np.min(myarray4, axis=1)\n",
    "q5"
   ]
  },
  {
   "cell_type": "code",
   "execution_count": 128,
   "metadata": {},
   "outputs": [
    {
     "data": {
      "text/plain": [
       "array([-0.75,  0.  ,  0.75,  1.5 ,  2.25,  3.  ,  3.75,  4.5 ,  5.25,\n",
       "        6.  ,  6.75,  7.5 ,  8.25,  9.  ])"
      ]
     },
     "execution_count": 128,
     "metadata": {},
     "output_type": "execute_result"
    }
   ],
   "source": [
    "q6 = np.mean(myarray4, axis=1)\n",
    "q6"
   ]
  },
  {
   "cell_type": "code",
   "execution_count": 129,
   "metadata": {},
   "outputs": [
    {
     "data": {
      "text/plain": [
       "array([3.02334666, 3.02334666, 3.02334666])"
      ]
     },
     "execution_count": 129,
     "metadata": {},
     "output_type": "execute_result"
    }
   ],
   "source": [
    "q7 = np.std(myarray4, axis=0)\n",
    "q7"
   ]
  },
  {
   "cell_type": "markdown",
   "metadata": {},
   "source": [
    "#### Practice Exercise 2\n",
    "Read the coordinates of the capital cities of the world from the country-capital-lat-long-population.csv file. Use NumPy to print the name and coordinates of the capital city closest to the Saudi Arabia capital - Riyadh.\n",
    "\n",
    "Note that:\n",
    "\n",
    "1. The Country Name for Saudi Arabia is given as Saudi Arabia in the data.\n",
    "2. The ‘closeness’ of capital cities from the Saudi Arabia capital is based on the Euclidean distance of their coordinates to those of the Saudi Arabia capital.\n",
    "\n",
    "\n",
    "Hints:\n",
    "\n",
    "1. Use read_html() from the Pandas library to read the table.\n",
    "2. Use the to_numpy() function of the Pandas DataFrame class to convert a DataFrame to a Numpy array\n",
    "3. Use broadcasting to compute the euclidean distance of capital cities from Riyadh."
   ]
  },
  {
   "cell_type": "code",
   "execution_count": 112,
   "metadata": {},
   "outputs": [
    {
     "data": {
      "text/html": [
       "<div>\n",
       "<style scoped>\n",
       "    .dataframe tbody tr th:only-of-type {\n",
       "        vertical-align: middle;\n",
       "    }\n",
       "\n",
       "    .dataframe tbody tr th {\n",
       "        vertical-align: top;\n",
       "    }\n",
       "\n",
       "    .dataframe thead th {\n",
       "        text-align: right;\n",
       "    }\n",
       "</style>\n",
       "<table border=\"1\" class=\"dataframe\">\n",
       "  <thead>\n",
       "    <tr style=\"text-align: right;\">\n",
       "      <th></th>\n",
       "      <th>Country</th>\n",
       "      <th>Capital City</th>\n",
       "      <th>Latitude</th>\n",
       "      <th>Longitude</th>\n",
       "      <th>Population</th>\n",
       "      <th>Capital Type</th>\n",
       "    </tr>\n",
       "  </thead>\n",
       "  <tbody>\n",
       "    <tr>\n",
       "      <th>0</th>\n",
       "      <td>Afghanistan</td>\n",
       "      <td>Kabul</td>\n",
       "      <td>34.5289</td>\n",
       "      <td>69.1725</td>\n",
       "      <td>4011770</td>\n",
       "      <td>Capital</td>\n",
       "    </tr>\n",
       "    <tr>\n",
       "      <th>1</th>\n",
       "      <td>Albania</td>\n",
       "      <td>Tiranë (Tirana)</td>\n",
       "      <td>41.3275</td>\n",
       "      <td>19.8189</td>\n",
       "      <td>475577</td>\n",
       "      <td>Capital</td>\n",
       "    </tr>\n",
       "    <tr>\n",
       "      <th>2</th>\n",
       "      <td>Algeria</td>\n",
       "      <td>El Djazaïr  (Algiers)</td>\n",
       "      <td>36.7525</td>\n",
       "      <td>3.0420</td>\n",
       "      <td>2693542</td>\n",
       "      <td>Capital</td>\n",
       "    </tr>\n",
       "    <tr>\n",
       "      <th>3</th>\n",
       "      <td>American Samoa</td>\n",
       "      <td>Pago Pago</td>\n",
       "      <td>-14.2781</td>\n",
       "      <td>-170.7025</td>\n",
       "      <td>48526</td>\n",
       "      <td>Capital</td>\n",
       "    </tr>\n",
       "    <tr>\n",
       "      <th>4</th>\n",
       "      <td>Andorra</td>\n",
       "      <td>Andorra la Vella</td>\n",
       "      <td>42.5078</td>\n",
       "      <td>1.5211</td>\n",
       "      <td>22614</td>\n",
       "      <td>Capital</td>\n",
       "    </tr>\n",
       "  </tbody>\n",
       "</table>\n",
       "</div>"
      ],
      "text/plain": [
       "          Country           Capital City  Latitude  Longitude  Population  \\\n",
       "0     Afghanistan                  Kabul   34.5289    69.1725     4011770   \n",
       "1         Albania        Tiranë (Tirana)   41.3275    19.8189      475577   \n",
       "2         Algeria  El Djazaïr  (Algiers)   36.7525     3.0420     2693542   \n",
       "3  American Samoa              Pago Pago  -14.2781  -170.7025       48526   \n",
       "4         Andorra       Andorra la Vella   42.5078     1.5211       22614   \n",
       "\n",
       "  Capital Type  \n",
       "0      Capital  \n",
       "1      Capital  \n",
       "2      Capital  \n",
       "3      Capital  \n",
       "4      Capital  "
      ]
     },
     "execution_count": 112,
     "metadata": {},
     "output_type": "execute_result"
    }
   ],
   "source": [
    "# Write your answer here\n",
    "import pandas as pd\n",
    "\n",
    "capitals = pd.read_csv('country-capital-lat-long-population.csv')\n",
    "capitals.head()"
   ]
  },
  {
   "cell_type": "code",
   "execution_count": 131,
   "metadata": {},
   "outputs": [
    {
     "data": {
      "text/plain": [
       "array([[ 3.452890e+01,  6.917250e+01],\n",
       "       [ 4.132750e+01,  1.981890e+01],\n",
       "       [ 3.675250e+01,  3.042000e+00],\n",
       "       [-1.427810e+01, -1.707025e+02],\n",
       "       [ 4.250780e+01,  1.521100e+00],\n",
       "       [-8.836800e+00,  1.323430e+01],\n",
       "       [ 1.821700e+01, -6.305780e+01],\n",
       "       [ 1.711720e+01, -6.184570e+01],\n",
       "       [-3.460510e+01, -5.840040e+01],\n",
       "       [ 4.018200e+01,  4.451460e+01],\n",
       "       [ 1.252400e+01, -7.002700e+01],\n",
       "       [-3.528350e+01,  1.491281e+02],\n",
       "       [ 4.820640e+01,  1.637070e+01],\n",
       "       [ 4.037770e+01,  4.989200e+01],\n",
       "       [ 2.505820e+01, -7.734310e+01],\n",
       "       [ 2.621540e+01,  5.058320e+01],\n",
       "       [ 2.371040e+01,  9.040740e+01],\n",
       "       [ 1.310000e+01, -5.961670e+01],\n",
       "       [ 5.390000e+01,  2.756670e+01],\n",
       "       [ 5.084670e+01,  4.349900e+00],\n",
       "       [ 1.725000e+01, -8.876670e+01],\n",
       "       [ 6.365400e+00,  2.418300e+00],\n",
       "       [ 3.229150e+01, -6.477800e+01],\n",
       "       [ 2.746610e+01,  8.964190e+01],\n",
       "       [-1.650000e+01, -6.815000e+01],\n",
       "       [ 4.384860e+01,  1.835640e+01],\n",
       "       [-2.465450e+01,  2.590860e+01],\n",
       "       [-1.577970e+01, -4.792970e+01],\n",
       "       [ 1.841670e+01, -6.461670e+01],\n",
       "       [ 4.940300e+00,  1.149481e+02],\n",
       "       [ 4.269750e+01,  2.332420e+01],\n",
       "       [ 1.236420e+01, -1.538300e+00],\n",
       "       [-3.382200e+00,  2.936440e+01],\n",
       "       [ 1.492150e+01, -2.350870e+01],\n",
       "       [ 1.156250e+01,  1.049160e+02],\n",
       "       [ 3.866700e+00,  1.151670e+01],\n",
       "       [ 4.541660e+01, -7.569800e+01],\n",
       "       [ 1.215000e+01, -6.826670e+01],\n",
       "       [ 1.928660e+01, -8.137440e+01],\n",
       "       [ 4.361200e+00,  1.855500e+01],\n",
       "       [ 1.210670e+01,  1.504440e+01],\n",
       "       [ 4.918800e+01, -2.104900e+00],\n",
       "       [ 4.945980e+01, -2.535300e+00],\n",
       "       [-3.345690e+01, -7.064830e+01],\n",
       "       [ 3.990750e+01,  1.163972e+02],\n",
       "       [ 2.227960e+01,  1.141887e+02],\n",
       "       [ 2.220060e+01,  1.135461e+02],\n",
       "       [ 2.504700e+01,  1.215457e+02],\n",
       "       [ 4.609700e+00, -7.408180e+01],\n",
       "       [-1.170220e+01,  4.325510e+01],\n",
       "       [-4.265800e+00,  1.528320e+01],\n",
       "       [-2.123000e+01, -1.597600e+02],\n",
       "       [ 9.927800e+00, -8.408070e+01],\n",
       "       [ 5.345300e+00, -4.026800e+00],\n",
       "       [ 4.581440e+01,  1.597800e+01],\n",
       "       [ 2.311950e+01, -8.237850e+01],\n",
       "       [ 1.210840e+01, -6.893350e+01],\n",
       "       [ 3.515950e+01,  3.336690e+01],\n",
       "       [ 5.008800e+01,  1.442080e+01],\n",
       "       [ 3.903390e+01,  1.257543e+02],\n",
       "       [-4.327600e+00,  1.531360e+01],\n",
       "       [ 5.567590e+01,  1.256550e+01],\n",
       "       [ 1.158770e+01,  4.314470e+01],\n",
       "       [ 1.530170e+01, -6.138810e+01],\n",
       "       [ 1.848960e+01, -6.990180e+01],\n",
       "       [-2.299000e-01, -7.852500e+01],\n",
       "       [ 3.003920e+01,  3.123940e+01],\n",
       "       [ 1.368940e+01, -8.918720e+01],\n",
       "       [ 3.750000e+00,  8.783300e+00],\n",
       "       [ 1.533330e+01,  3.893330e+01],\n",
       "       [ 5.943700e+01,  2.475350e+01],\n",
       "       [ 9.025000e+00,  3.874690e+01],\n",
       "       [ 6.200970e+01, -6.771600e+00],\n",
       "       [-5.170120e+01, -5.784940e+01],\n",
       "       [-1.814160e+01,  1.784415e+02],\n",
       "       [ 6.016920e+01,  2.494020e+01],\n",
       "       [ 4.885340e+01,  2.348800e+00],\n",
       "       [ 4.933300e+00, -5.233330e+01],\n",
       "       [-1.753330e+01, -1.495667e+02],\n",
       "       [ 3.925000e-01,  9.453700e+00],\n",
       "       [ 1.345310e+01, -1.667940e+01],\n",
       "       [ 4.169410e+01,  4.483370e+01],\n",
       "       [ 5.252440e+01,  1.341050e+01],\n",
       "       [ 5.556000e+00, -1.969000e-01],\n",
       "       [ 3.614470e+01, -5.352600e+00],\n",
       "       [ 3.795340e+01,  2.374900e+01],\n",
       "       [ 6.418350e+01, -5.172160e+01],\n",
       "       [ 1.205640e+01, -6.174850e+01],\n",
       "       [ 1.599850e+01, -6.172550e+01],\n",
       "       [ 1.347570e+01,  1.447489e+02],\n",
       "       [ 1.461270e+01, -9.053070e+01],\n",
       "       [ 9.571600e+00, -1.364760e+01],\n",
       "       [ 1.186360e+01, -1.559770e+01],\n",
       "       [ 6.804500e+00, -5.815530e+01],\n",
       "       [ 1.853920e+01, -7.233500e+01],\n",
       "       [ 4.190240e+01,  1.245330e+01],\n",
       "       [ 1.408180e+01, -8.720680e+01],\n",
       "       [ 4.749800e+01,  1.903990e+01],\n",
       "       [ 6.413550e+01, -2.189540e+01],\n",
       "       [ 2.866670e+01,  7.721670e+01],\n",
       "       [-6.211800e+00,  1.068416e+02],\n",
       "       [ 3.569440e+01,  5.142150e+01],\n",
       "       [ 3.334060e+01,  4.440090e+01],\n",
       "       [ 5.333310e+01, -6.248900e+00],\n",
       "       [ 5.415000e+01, -4.483300e+00],\n",
       "       [ 3.176900e+01,  3.521630e+01],\n",
       "       [ 4.189470e+01,  1.248110e+01],\n",
       "       [ 1.799700e+01, -7.679360e+01],\n",
       "       [ 3.568950e+01,  1.396917e+02],\n",
       "       [ 3.195520e+01,  3.594500e+01],\n",
       "       [ 5.118010e+01,  7.144600e+01],\n",
       "       [-1.283300e+00,  3.681670e+01],\n",
       "       [ 1.327200e+00,  1.729813e+02],\n",
       "       [ 2.936970e+01,  4.797830e+01],\n",
       "       [ 4.287000e+01,  7.459000e+01],\n",
       "       [ 1.796670e+01,  1.026000e+02],\n",
       "       [ 5.694600e+01,  2.410590e+01],\n",
       "       [ 3.390000e+01,  3.548330e+01],\n",
       "       [-2.931670e+01,  2.748330e+01],\n",
       "       [ 6.300500e+00, -1.079690e+01],\n",
       "       [ 3.287520e+01,  1.318750e+01],\n",
       "       [ 4.714150e+01,  9.521500e+00],\n",
       "       [ 5.468920e+01,  2.527980e+01],\n",
       "       [ 4.961170e+01,  6.130000e+00],\n",
       "       [-1.891370e+01,  4.753610e+01],\n",
       "       [-1.396690e+01,  3.378730e+01],\n",
       "       [ 3.141200e+00,  1.016865e+02],\n",
       "       [ 4.174800e+00,  7.350890e+01],\n",
       "       [ 1.265000e+01, -8.000000e+00],\n",
       "       [ 3.589970e+01,  1.451470e+01],\n",
       "       [ 7.089700e+00,  1.713803e+02],\n",
       "       [ 1.460890e+01, -6.107330e+01],\n",
       "       [ 1.808580e+01, -1.597850e+01],\n",
       "       [-2.016190e+01,  5.749890e+01],\n",
       "       [-1.277940e+01,  4.522720e+01],\n",
       "       [ 1.942730e+01, -9.914190e+01],\n",
       "       [ 6.917400e+00,  1.581588e+02],\n",
       "       [ 4.373330e+01,  7.416700e+00],\n",
       "       [ 4.790770e+01,  1.068832e+02],\n",
       "       [ 4.244110e+01,  1.926360e+01],\n",
       "       [ 1.679180e+01, -6.221060e+01],\n",
       "       [ 3.401330e+01, -6.832600e+00],\n",
       "       [-2.596530e+01,  3.258920e+01],\n",
       "       [ 1.974500e+01,  9.612970e+01],\n",
       "       [-2.255940e+01,  1.708320e+01],\n",
       "       [-5.308000e-01,  1.669112e+02],\n",
       "       [ 2.770170e+01,  8.532060e+01],\n",
       "       [ 5.237400e+01,  4.889700e+00],\n",
       "       [-2.227630e+01,  1.664572e+02],\n",
       "       [-4.128660e+01,  1.747756e+02],\n",
       "       [ 1.213280e+01, -8.625040e+01],\n",
       "       [ 1.351370e+01,  2.109800e+00],\n",
       "       [ 9.057400e+00,  7.489800e+00],\n",
       "       [-1.905850e+01, -1.699213e+02],\n",
       "       [ 1.521230e+01,  1.457545e+02],\n",
       "       [ 5.991270e+01,  1.074610e+01],\n",
       "       [ 2.361390e+01,  5.859220e+01],\n",
       "       [ 3.370350e+01,  7.305940e+01],\n",
       "       [ 7.342600e+00,  1.344789e+02],\n",
       "       [ 8.995800e+00, -7.951960e+01],\n",
       "       [-9.443100e+00,  1.471797e+02],\n",
       "       [-2.530070e+01, -5.763590e+01],\n",
       "       [-1.204320e+01, -7.702820e+01],\n",
       "       [ 1.460420e+01,  1.209822e+02],\n",
       "       [ 5.222980e+01,  2.101180e+01],\n",
       "       [ 3.871690e+01, -9.139900e+00],\n",
       "       [ 1.846630e+01, -6.610570e+01],\n",
       "       [ 2.527470e+01,  5.152450e+01],\n",
       "       [ 3.756830e+01,  1.269778e+02],\n",
       "       [ 4.700560e+01,  2.885750e+01],\n",
       "       [-2.088230e+01,  5.545040e+01],\n",
       "       [ 4.443280e+01,  2.610430e+01],\n",
       "       [ 5.575500e+01,  3.762180e+01],\n",
       "       [-1.947400e+00,  3.005790e+01],\n",
       "       [-1.593870e+01, -5.716800e+00],\n",
       "       [ 1.729480e+01, -6.272610e+01],\n",
       "       [ 1.400600e+01, -6.099100e+01],\n",
       "       [ 4.677380e+01, -5.618150e+01],\n",
       "       [ 1.315870e+01, -6.122480e+01],\n",
       "       [-1.383330e+01, -1.717667e+02],\n",
       "       [ 4.393330e+01,  1.245000e+01],\n",
       "       [ 3.365000e-01,  6.727300e+00],\n",
       "       [ 2.469050e+01,  4.670960e+01],\n",
       "       [ 1.469370e+01, -1.744410e+01],\n",
       "       [ 4.481760e+01,  2.046330e+01],\n",
       "       [-4.616700e+00,  5.545000e+01],\n",
       "       [ 8.484000e+00, -1.322990e+01],\n",
       "       [ 1.289700e+00,  1.038501e+02],\n",
       "       [ 1.802600e+01, -6.304580e+01],\n",
       "       [ 4.814820e+01,  1.710670e+01],\n",
       "       [ 4.605110e+01,  1.450510e+01],\n",
       "       [-9.433300e+00,  1.599500e+02],\n",
       "       [ 2.041600e+00,  4.534350e+01],\n",
       "       [-3.392580e+01,  1.842320e+01],\n",
       "       [ 4.851700e+00,  3.158250e+01],\n",
       "       [ 4.041650e+01, -3.702600e+00],\n",
       "       [ 6.931900e+00,  7.984780e+01],\n",
       "       [ 3.178340e+01,  3.523390e+01],\n",
       "       [ 1.555180e+01,  3.253240e+01],\n",
       "       [ 5.866400e+00, -5.516680e+01],\n",
       "       [-2.631670e+01,  3.113330e+01],\n",
       "       [ 5.933260e+01,  1.806490e+01],\n",
       "       [ 4.694810e+01,  7.447400e+00],\n",
       "       [ 3.350860e+01,  3.630840e+01],\n",
       "       [ 3.853580e+01,  6.877910e+01],\n",
       "       [ 4.200000e+01,  2.143330e+01],\n",
       "       [ 1.372200e+01,  1.005252e+02],\n",
       "       [-8.560100e+00,  1.255668e+02],\n",
       "       [ 6.137500e+00,  1.212300e+00],\n",
       "       [-9.380000e+00, -1.712500e+02],\n",
       "       [-2.113940e+01, -1.752032e+02],\n",
       "       [ 1.066620e+01, -6.151660e+01],\n",
       "       [ 3.681900e+01,  1.016580e+01],\n",
       "       [ 3.991990e+01,  3.285430e+01],\n",
       "       [ 3.795000e+01,  5.838330e+01],\n",
       "       [ 2.146120e+01, -7.114190e+01],\n",
       "       [-8.518900e+00,  1.791991e+02],\n",
       "       [ 3.163000e-01,  3.258220e+01],\n",
       "       [ 5.044540e+01,  3.051860e+01],\n",
       "       [ 2.446480e+01,  5.436180e+01],\n",
       "       [ 5.150850e+01, -1.257000e-01],\n",
       "       [-6.172200e+00,  3.573950e+01],\n",
       "       [ 3.889510e+01, -7.703640e+01],\n",
       "       [ 1.834190e+01, -6.493070e+01],\n",
       "       [-3.483350e+01, -5.616740e+01],\n",
       "       [ 4.126470e+01,  6.921630e+01],\n",
       "       [-1.773380e+01,  1.683219e+02],\n",
       "       [ 1.048800e+01, -6.687920e+01],\n",
       "       [ 2.102450e+01,  1.058412e+02],\n",
       "       [-1.328160e+01, -1.761745e+02],\n",
       "       [ 2.715320e+01, -1.320140e+01],\n",
       "       [ 1.535310e+01,  4.420780e+01],\n",
       "       [-1.541340e+01,  2.827710e+01],\n",
       "       [-1.782940e+01,  3.105390e+01]])"
      ]
     },
     "execution_count": 131,
     "metadata": {},
     "output_type": "execute_result"
    }
   ],
   "source": [
    "# Convert the latitude and longitude columns to a NumPy array\n",
    "coordinates = capitals[['Latitude', 'Longitude']].to_numpy()\n",
    "coordinates"
   ]
  },
  {
   "cell_type": "code",
   "execution_count": 132,
   "metadata": {},
   "outputs": [
    {
     "data": {
      "text/plain": [
       "array([24.6905, 46.7096])"
      ]
     },
     "execution_count": 132,
     "metadata": {},
     "output_type": "execute_result"
    }
   ],
   "source": [
    "# Get the coordinates of Riyadh (Saudi Arabia's capital)\n",
    "riyadh_coords = coordinates[capitals['Country'] == 'Saudi Arabia'][0]\n",
    "riyadh_coords "
   ]
  },
  {
   "cell_type": "code",
   "execution_count": 137,
   "metadata": {},
   "outputs": [
    {
     "data": {
      "text/plain": [
       "array([[ 3.452890e+01,  6.917250e+01],\n",
       "       [ 4.132750e+01,  1.981890e+01],\n",
       "       [ 3.675250e+01,  3.042000e+00],\n",
       "       [-1.427810e+01, -1.707025e+02],\n",
       "       [ 4.250780e+01,  1.521100e+00],\n",
       "       [-8.836800e+00,  1.323430e+01],\n",
       "       [ 1.821700e+01, -6.305780e+01],\n",
       "       [ 1.711720e+01, -6.184570e+01],\n",
       "       [-3.460510e+01, -5.840040e+01],\n",
       "       [ 4.018200e+01,  4.451460e+01],\n",
       "       [ 1.252400e+01, -7.002700e+01],\n",
       "       [-3.528350e+01,  1.491281e+02],\n",
       "       [ 4.820640e+01,  1.637070e+01],\n",
       "       [ 4.037770e+01,  4.989200e+01],\n",
       "       [ 2.505820e+01, -7.734310e+01],\n",
       "       [ 2.621540e+01,  5.058320e+01],\n",
       "       [ 2.371040e+01,  9.040740e+01],\n",
       "       [ 1.310000e+01, -5.961670e+01],\n",
       "       [ 5.390000e+01,  2.756670e+01],\n",
       "       [ 5.084670e+01,  4.349900e+00],\n",
       "       [ 1.725000e+01, -8.876670e+01],\n",
       "       [ 6.365400e+00,  2.418300e+00],\n",
       "       [ 3.229150e+01, -6.477800e+01],\n",
       "       [ 2.746610e+01,  8.964190e+01],\n",
       "       [-1.650000e+01, -6.815000e+01],\n",
       "       [ 4.384860e+01,  1.835640e+01],\n",
       "       [-2.465450e+01,  2.590860e+01],\n",
       "       [-1.577970e+01, -4.792970e+01],\n",
       "       [ 1.841670e+01, -6.461670e+01],\n",
       "       [ 4.940300e+00,  1.149481e+02],\n",
       "       [ 4.269750e+01,  2.332420e+01],\n",
       "       [ 1.236420e+01, -1.538300e+00],\n",
       "       [-3.382200e+00,  2.936440e+01],\n",
       "       [ 1.492150e+01, -2.350870e+01],\n",
       "       [ 1.156250e+01,  1.049160e+02],\n",
       "       [ 3.866700e+00,  1.151670e+01],\n",
       "       [ 4.541660e+01, -7.569800e+01],\n",
       "       [ 1.215000e+01, -6.826670e+01],\n",
       "       [ 1.928660e+01, -8.137440e+01],\n",
       "       [ 4.361200e+00,  1.855500e+01],\n",
       "       [ 1.210670e+01,  1.504440e+01],\n",
       "       [ 4.918800e+01, -2.104900e+00],\n",
       "       [ 4.945980e+01, -2.535300e+00],\n",
       "       [-3.345690e+01, -7.064830e+01],\n",
       "       [ 3.990750e+01,  1.163972e+02],\n",
       "       [ 2.227960e+01,  1.141887e+02],\n",
       "       [ 2.220060e+01,  1.135461e+02],\n",
       "       [ 2.504700e+01,  1.215457e+02],\n",
       "       [ 4.609700e+00, -7.408180e+01],\n",
       "       [-1.170220e+01,  4.325510e+01],\n",
       "       [-4.265800e+00,  1.528320e+01],\n",
       "       [-2.123000e+01, -1.597600e+02],\n",
       "       [ 9.927800e+00, -8.408070e+01],\n",
       "       [ 5.345300e+00, -4.026800e+00],\n",
       "       [ 4.581440e+01,  1.597800e+01],\n",
       "       [ 2.311950e+01, -8.237850e+01],\n",
       "       [ 1.210840e+01, -6.893350e+01],\n",
       "       [ 3.515950e+01,  3.336690e+01],\n",
       "       [ 5.008800e+01,  1.442080e+01],\n",
       "       [ 3.903390e+01,  1.257543e+02],\n",
       "       [-4.327600e+00,  1.531360e+01],\n",
       "       [ 5.567590e+01,  1.256550e+01],\n",
       "       [ 1.158770e+01,  4.314470e+01],\n",
       "       [ 1.530170e+01, -6.138810e+01],\n",
       "       [ 1.848960e+01, -6.990180e+01],\n",
       "       [-2.299000e-01, -7.852500e+01],\n",
       "       [ 3.003920e+01,  3.123940e+01],\n",
       "       [ 1.368940e+01, -8.918720e+01],\n",
       "       [ 3.750000e+00,  8.783300e+00],\n",
       "       [ 1.533330e+01,  3.893330e+01],\n",
       "       [ 5.943700e+01,  2.475350e+01],\n",
       "       [ 9.025000e+00,  3.874690e+01],\n",
       "       [ 6.200970e+01, -6.771600e+00],\n",
       "       [-5.170120e+01, -5.784940e+01],\n",
       "       [-1.814160e+01,  1.784415e+02],\n",
       "       [ 6.016920e+01,  2.494020e+01],\n",
       "       [ 4.885340e+01,  2.348800e+00],\n",
       "       [ 4.933300e+00, -5.233330e+01],\n",
       "       [-1.753330e+01, -1.495667e+02],\n",
       "       [ 3.925000e-01,  9.453700e+00],\n",
       "       [ 1.345310e+01, -1.667940e+01],\n",
       "       [ 4.169410e+01,  4.483370e+01],\n",
       "       [ 5.252440e+01,  1.341050e+01],\n",
       "       [ 5.556000e+00, -1.969000e-01],\n",
       "       [ 3.614470e+01, -5.352600e+00],\n",
       "       [ 3.795340e+01,  2.374900e+01],\n",
       "       [ 6.418350e+01, -5.172160e+01],\n",
       "       [ 1.205640e+01, -6.174850e+01],\n",
       "       [ 1.599850e+01, -6.172550e+01],\n",
       "       [ 1.347570e+01,  1.447489e+02],\n",
       "       [ 1.461270e+01, -9.053070e+01],\n",
       "       [ 9.571600e+00, -1.364760e+01],\n",
       "       [ 1.186360e+01, -1.559770e+01],\n",
       "       [ 6.804500e+00, -5.815530e+01],\n",
       "       [ 1.853920e+01, -7.233500e+01],\n",
       "       [ 4.190240e+01,  1.245330e+01],\n",
       "       [ 1.408180e+01, -8.720680e+01],\n",
       "       [ 4.749800e+01,  1.903990e+01],\n",
       "       [ 6.413550e+01, -2.189540e+01],\n",
       "       [ 2.866670e+01,  7.721670e+01],\n",
       "       [-6.211800e+00,  1.068416e+02],\n",
       "       [ 3.569440e+01,  5.142150e+01],\n",
       "       [ 3.334060e+01,  4.440090e+01],\n",
       "       [ 5.333310e+01, -6.248900e+00],\n",
       "       [ 5.415000e+01, -4.483300e+00],\n",
       "       [ 3.176900e+01,  3.521630e+01],\n",
       "       [ 4.189470e+01,  1.248110e+01],\n",
       "       [ 1.799700e+01, -7.679360e+01],\n",
       "       [ 3.568950e+01,  1.396917e+02],\n",
       "       [ 3.195520e+01,  3.594500e+01],\n",
       "       [ 5.118010e+01,  7.144600e+01],\n",
       "       [-1.283300e+00,  3.681670e+01],\n",
       "       [ 1.327200e+00,  1.729813e+02],\n",
       "       [ 2.936970e+01,  4.797830e+01],\n",
       "       [ 4.287000e+01,  7.459000e+01],\n",
       "       [ 1.796670e+01,  1.026000e+02],\n",
       "       [ 5.694600e+01,  2.410590e+01],\n",
       "       [ 3.390000e+01,  3.548330e+01],\n",
       "       [-2.931670e+01,  2.748330e+01],\n",
       "       [ 6.300500e+00, -1.079690e+01],\n",
       "       [ 3.287520e+01,  1.318750e+01],\n",
       "       [ 4.714150e+01,  9.521500e+00],\n",
       "       [ 5.468920e+01,  2.527980e+01],\n",
       "       [ 4.961170e+01,  6.130000e+00],\n",
       "       [-1.891370e+01,  4.753610e+01],\n",
       "       [-1.396690e+01,  3.378730e+01],\n",
       "       [ 3.141200e+00,  1.016865e+02],\n",
       "       [ 4.174800e+00,  7.350890e+01],\n",
       "       [ 1.265000e+01, -8.000000e+00],\n",
       "       [ 3.589970e+01,  1.451470e+01],\n",
       "       [ 7.089700e+00,  1.713803e+02],\n",
       "       [ 1.460890e+01, -6.107330e+01],\n",
       "       [ 1.808580e+01, -1.597850e+01],\n",
       "       [-2.016190e+01,  5.749890e+01],\n",
       "       [-1.277940e+01,  4.522720e+01],\n",
       "       [ 1.942730e+01, -9.914190e+01],\n",
       "       [ 6.917400e+00,  1.581588e+02],\n",
       "       [ 4.373330e+01,  7.416700e+00],\n",
       "       [ 4.790770e+01,  1.068832e+02],\n",
       "       [ 4.244110e+01,  1.926360e+01],\n",
       "       [ 1.679180e+01, -6.221060e+01],\n",
       "       [ 3.401330e+01, -6.832600e+00],\n",
       "       [-2.596530e+01,  3.258920e+01],\n",
       "       [ 1.974500e+01,  9.612970e+01],\n",
       "       [-2.255940e+01,  1.708320e+01],\n",
       "       [-5.308000e-01,  1.669112e+02],\n",
       "       [ 2.770170e+01,  8.532060e+01],\n",
       "       [ 5.237400e+01,  4.889700e+00],\n",
       "       [-2.227630e+01,  1.664572e+02],\n",
       "       [-4.128660e+01,  1.747756e+02],\n",
       "       [ 1.213280e+01, -8.625040e+01],\n",
       "       [ 1.351370e+01,  2.109800e+00],\n",
       "       [ 9.057400e+00,  7.489800e+00],\n",
       "       [-1.905850e+01, -1.699213e+02],\n",
       "       [ 1.521230e+01,  1.457545e+02],\n",
       "       [ 5.991270e+01,  1.074610e+01],\n",
       "       [ 2.361390e+01,  5.859220e+01],\n",
       "       [ 3.370350e+01,  7.305940e+01],\n",
       "       [ 7.342600e+00,  1.344789e+02],\n",
       "       [ 8.995800e+00, -7.951960e+01],\n",
       "       [-9.443100e+00,  1.471797e+02],\n",
       "       [-2.530070e+01, -5.763590e+01],\n",
       "       [-1.204320e+01, -7.702820e+01],\n",
       "       [ 1.460420e+01,  1.209822e+02],\n",
       "       [ 5.222980e+01,  2.101180e+01],\n",
       "       [ 3.871690e+01, -9.139900e+00],\n",
       "       [ 1.846630e+01, -6.610570e+01],\n",
       "       [ 2.527470e+01,  5.152450e+01],\n",
       "       [ 3.756830e+01,  1.269778e+02],\n",
       "       [ 4.700560e+01,  2.885750e+01],\n",
       "       [-2.088230e+01,  5.545040e+01],\n",
       "       [ 4.443280e+01,  2.610430e+01],\n",
       "       [ 5.575500e+01,  3.762180e+01],\n",
       "       [-1.947400e+00,  3.005790e+01],\n",
       "       [-1.593870e+01, -5.716800e+00],\n",
       "       [ 1.729480e+01, -6.272610e+01],\n",
       "       [ 1.400600e+01, -6.099100e+01],\n",
       "       [ 4.677380e+01, -5.618150e+01],\n",
       "       [ 1.315870e+01, -6.122480e+01],\n",
       "       [-1.383330e+01, -1.717667e+02],\n",
       "       [ 4.393330e+01,  1.245000e+01],\n",
       "       [ 3.365000e-01,  6.727300e+00],\n",
       "       [ 1.469370e+01, -1.744410e+01],\n",
       "       [ 4.481760e+01,  2.046330e+01],\n",
       "       [-4.616700e+00,  5.545000e+01],\n",
       "       [ 8.484000e+00, -1.322990e+01],\n",
       "       [ 1.289700e+00,  1.038501e+02],\n",
       "       [ 1.802600e+01, -6.304580e+01],\n",
       "       [ 4.814820e+01,  1.710670e+01],\n",
       "       [ 4.605110e+01,  1.450510e+01],\n",
       "       [-9.433300e+00,  1.599500e+02],\n",
       "       [ 2.041600e+00,  4.534350e+01],\n",
       "       [-3.392580e+01,  1.842320e+01],\n",
       "       [ 4.851700e+00,  3.158250e+01],\n",
       "       [ 4.041650e+01, -3.702600e+00],\n",
       "       [ 6.931900e+00,  7.984780e+01],\n",
       "       [ 3.178340e+01,  3.523390e+01],\n",
       "       [ 1.555180e+01,  3.253240e+01],\n",
       "       [ 5.866400e+00, -5.516680e+01],\n",
       "       [-2.631670e+01,  3.113330e+01],\n",
       "       [ 5.933260e+01,  1.806490e+01],\n",
       "       [ 4.694810e+01,  7.447400e+00],\n",
       "       [ 3.350860e+01,  3.630840e+01],\n",
       "       [ 3.853580e+01,  6.877910e+01],\n",
       "       [ 4.200000e+01,  2.143330e+01],\n",
       "       [ 1.372200e+01,  1.005252e+02],\n",
       "       [-8.560100e+00,  1.255668e+02],\n",
       "       [ 6.137500e+00,  1.212300e+00],\n",
       "       [-9.380000e+00, -1.712500e+02],\n",
       "       [-2.113940e+01, -1.752032e+02],\n",
       "       [ 1.066620e+01, -6.151660e+01],\n",
       "       [ 3.681900e+01,  1.016580e+01],\n",
       "       [ 3.991990e+01,  3.285430e+01],\n",
       "       [ 3.795000e+01,  5.838330e+01],\n",
       "       [ 2.146120e+01, -7.114190e+01],\n",
       "       [-8.518900e+00,  1.791991e+02],\n",
       "       [ 3.163000e-01,  3.258220e+01],\n",
       "       [ 5.044540e+01,  3.051860e+01],\n",
       "       [ 2.446480e+01,  5.436180e+01],\n",
       "       [ 5.150850e+01, -1.257000e-01],\n",
       "       [-6.172200e+00,  3.573950e+01],\n",
       "       [ 3.889510e+01, -7.703640e+01],\n",
       "       [ 1.834190e+01, -6.493070e+01],\n",
       "       [-3.483350e+01, -5.616740e+01],\n",
       "       [ 4.126470e+01,  6.921630e+01],\n",
       "       [-1.773380e+01,  1.683219e+02],\n",
       "       [ 1.048800e+01, -6.687920e+01],\n",
       "       [ 2.102450e+01,  1.058412e+02],\n",
       "       [-1.328160e+01, -1.761745e+02],\n",
       "       [ 2.715320e+01, -1.320140e+01],\n",
       "       [ 1.535310e+01,  4.420780e+01],\n",
       "       [-1.541340e+01,  2.827710e+01],\n",
       "       [-1.782940e+01,  3.105390e+01]])"
      ]
     },
     "execution_count": 137,
     "metadata": {},
     "output_type": "execute_result"
    }
   ],
   "source": [
    "# Exclude Riyadh from the coordinates array\n",
    "other_coords = coordinates[capitals['Country'] != 'Saudi Arabia']\n",
    "other_coords"
   ]
  },
  {
   "cell_type": "code",
   "execution_count": 139,
   "metadata": {},
   "outputs": [
    {
     "data": {
      "text/plain": [
       "array([ 24.52296864,  31.62118776,  45.30288218, 220.87682769,\n",
       "        48.57423918,  47.37800709, 109.95812069, 108.81915287,\n",
       "       120.68173134,  15.64623269, 117.36889495, 118.68626634,\n",
       "        38.38549734,  16.00674588, 124.05324494,   4.16294331,\n",
       "        43.70878997, 106.95616748,  34.92342352,  49.78444519,\n",
       "       135.68046618,  47.93254162, 111.74641003,  43.02192858,\n",
       "       122.02206769,  34.21895302,  53.55007587, 102.92926791,\n",
       "       111.50294004,  71.03916724,  29.51489424,  49.79756546,\n",
       "        32.99897647,  70.89459088,  59.66849575,  40.89218577,\n",
       "       124.14987619, 115.65817611, 128.19794535,  34.72696272,\n",
       "        34.07399175,  54.61669082,  55.12330177, 130.97326757,\n",
       "        71.32964799,  67.5221547 ,  66.88286278,  74.83694913,\n",
       "       122.44917657,  36.55628788,  42.73272665, 211.51451025,\n",
       "       131.62081859,  54.29934666,  37.29142515, 129.09765917,\n",
       "       116.32555961,  16.95958739,  41.08040423,  80.33553212,\n",
       "        42.75229752,  46.10764121,  13.57909717, 108.50466493,\n",
       "       116.77615241, 127.68998149,  16.36874093, 136.34135268,\n",
       "        43.32330518,  12.16667718,  41.10218473,  17.57306125,\n",
       "        65.21473332, 129.49237935, 138.52033161,  41.62505171,\n",
       "        50.51461485, 100.99427208, 200.76661881,  44.47915117,\n",
       "        64.37735999,  17.10676515,  43.39995449,  50.65914362,\n",
       "        53.30732939,  26.5159135 , 106.05846587, 109.1914829 ,\n",
       "       108.78291123,  98.6786506 , 137.60981795,  62.2219634 ,\n",
       "        63.61390569, 106.37930366, 119.20341975,  38.33723505,\n",
       "       134.33594718,  35.85797477,  79.13630046,  30.76513151,\n",
       "        67.60776264,  11.97028892,   8.95289482,  60.20798333,\n",
       "        59.0641613 ,  13.49818903,  38.30893773, 123.68445073,\n",
       "        93.63038461,  12.98662694,  36.24346   ,  27.79402376,\n",
       "       128.41489792,   4.84814525,  33.28379372,  56.2933948 ,\n",
       "        39.38711127,  14.52049248,  57.32737796,  60.37540594,\n",
       "        34.5068182 ,  43.43963838,  36.86676457,  47.62111029,\n",
       "        43.61203228,  40.7600345 ,  59.04940189,  33.75050262,\n",
       "        56.01887157,  34.09043489, 125.90699583, 108.25337034,\n",
       "        63.03506916,  46.13184128,  37.4992122 , 145.94643307,\n",
       "       112.85746437,  43.6641755 ,  64.49729074,  32.68587946,\n",
       "       109.20622432,  54.34778543,  52.58703043,  49.66693321,\n",
       "        55.76985411, 122.81912968,  38.72824094,  50.15256931,\n",
       "       128.62879929, 144.06206329, 133.55170321,  45.97894103,\n",
       "        42.22068838, 221.004348  ,  99.49737932,  50.33862041,\n",
       "        11.93127195,  27.84862885,  89.46731055, 127.20115778,\n",
       "       106.11005439, 115.702651  , 129.07520236,  74.95433649,\n",
       "        37.6668285 ,  57.58390875, 112.98686906,   4.85021151,\n",
       "        81.29465951,  28.57728403,  46.4034663 ,  28.536587  ,\n",
       "        32.36651463,  31.41427748,  66.32691241, 109.68531722,\n",
       "       108.22928338, 105.23426532, 108.54868546, 221.84674176,\n",
       "        39.29383595,  46.81561309,  64.92790797,  33.07519339,\n",
       "        30.58278215,  62.09182154,  61.74653173, 109.95755267,\n",
       "        37.77029756,  38.64459927, 118.27012268,  22.69006171,\n",
       "        65.08449163,  24.9480889 ,  52.80811476,  37.59665109,\n",
       "        13.49077169,  16.86738977, 103.60090549,  53.33250016,\n",
       "        44.95101701,  45.13226237,  13.63612295,  26.05293001,\n",
       "        30.63511273,  54.92200648,  85.58072442,  49.13469361,\n",
       "       220.60640562, 226.5958308 , 109.1310742 ,  38.50389371,\n",
       "        20.58892815,  17.66605819, 117.89573542, 136.58818345,\n",
       "        28.17241659,  30.42142921,   7.65552776,  53.96990319,\n",
       "        32.75437902, 124.55859335, 111.82066583, 118.85614711,\n",
       "        27.9509508 , 128.7997389 , 114.47325667,  59.24513207,\n",
       "       226.09556035,  59.96159448,   9.6667493 ,  44.13705758,\n",
       "        45.31051576])"
      ]
     },
     "execution_count": 139,
     "metadata": {},
     "output_type": "execute_result"
    }
   ],
   "source": [
    "# Calculate the Euclidean distance between Riyadh and all other capital cities\n",
    "distances = np.linalg.norm(other_coords - riyadh_coords, axis=1)\n",
    "distances"
   ]
  },
  {
   "cell_type": "code",
   "execution_count": 134,
   "metadata": {},
   "outputs": [
    {
     "data": {
      "text/plain": [
       "182"
      ]
     },
     "execution_count": 134,
     "metadata": {},
     "output_type": "execute_result"
    }
   ],
   "source": [
    "# Find the index of the capital city closest to Riyadh\n",
    "closest_city_index = np.argmin(distances)\n",
    "closest_city_index"
   ]
  },
  {
   "cell_type": "code",
   "execution_count": 141,
   "metadata": {},
   "outputs": [
    {
     "data": {
      "text/plain": [
       "183"
      ]
     },
     "execution_count": 141,
     "metadata": {},
     "output_type": "execute_result"
    }
   ],
   "source": [
    "# Since we filtered out Riyadh, we need to adjust the index to get the correct city from the original DataFrame\n",
    "closest_city_index_original = np.where(capitals['Country'] != 'Saudi Arabia')[0][closest_city_index]\n",
    "closest_city_index_original"
   ]
  },
  {
   "cell_type": "code",
   "execution_count": 144,
   "metadata": {},
   "outputs": [
    {
     "name": "stdout",
     "output_type": "stream",
     "text": [
      "The capital city closest to Riyadh is Dakar with coordinates [ 14.6937 -17.4441]\n"
     ]
    }
   ],
   "source": [
    "# Get the name and coordinates of the closest city\n",
    "closest_city_name = capitals['Capital City'][closest_city_index_original]\n",
    "closest_city_coords = other_coords[closest_city_index]\n",
    "\n",
    "# Print the result\n",
    "print(f\"The capital city closest to Riyadh is {closest_city_name} with coordinates {closest_city_coords}\")"
   ]
  },
  {
   "cell_type": "markdown",
   "metadata": {},
   "source": [
    "#### Practical Exercise 2\n",
    "\n",
    "Use NumPy to:\n",
    "\n",
    "1. Print the names of the countries of the top 10 capital cities closest to the US capital - Washington DC.\n",
    "\n",
    "2. Create and print a NumPy array containing the coordinates of the top 10 cities."
   ]
  },
  {
   "cell_type": "code",
   "execution_count": 147,
   "metadata": {},
   "outputs": [
    {
     "data": {
      "text/plain": [
       "array([ 38.8951, -77.0364])"
      ]
     },
     "execution_count": 147,
     "metadata": {},
     "output_type": "execute_result"
    }
   ],
   "source": [
    "# Write your answer here\n",
    "# Get the coordinates of Washington DC\n",
    "dc_coords = coordinates[capitals['Capital City'] == 'Washington, D.C.'][0]\n",
    "dc_coords"
   ]
  },
  {
   "cell_type": "code",
   "execution_count": 148,
   "metadata": {},
   "outputs": [
    {
     "data": {
      "text/plain": [
       "array([[ 3.452890e+01,  6.917250e+01],\n",
       "       [ 4.132750e+01,  1.981890e+01],\n",
       "       [ 3.675250e+01,  3.042000e+00],\n",
       "       [-1.427810e+01, -1.707025e+02],\n",
       "       [ 4.250780e+01,  1.521100e+00],\n",
       "       [-8.836800e+00,  1.323430e+01],\n",
       "       [ 1.821700e+01, -6.305780e+01],\n",
       "       [ 1.711720e+01, -6.184570e+01],\n",
       "       [-3.460510e+01, -5.840040e+01],\n",
       "       [ 4.018200e+01,  4.451460e+01],\n",
       "       [ 1.252400e+01, -7.002700e+01],\n",
       "       [-3.528350e+01,  1.491281e+02],\n",
       "       [ 4.820640e+01,  1.637070e+01],\n",
       "       [ 4.037770e+01,  4.989200e+01],\n",
       "       [ 2.505820e+01, -7.734310e+01],\n",
       "       [ 2.621540e+01,  5.058320e+01],\n",
       "       [ 2.371040e+01,  9.040740e+01],\n",
       "       [ 1.310000e+01, -5.961670e+01],\n",
       "       [ 5.390000e+01,  2.756670e+01],\n",
       "       [ 5.084670e+01,  4.349900e+00],\n",
       "       [ 1.725000e+01, -8.876670e+01],\n",
       "       [ 6.365400e+00,  2.418300e+00],\n",
       "       [ 3.229150e+01, -6.477800e+01],\n",
       "       [ 2.746610e+01,  8.964190e+01],\n",
       "       [-1.650000e+01, -6.815000e+01],\n",
       "       [ 4.384860e+01,  1.835640e+01],\n",
       "       [-2.465450e+01,  2.590860e+01],\n",
       "       [-1.577970e+01, -4.792970e+01],\n",
       "       [ 1.841670e+01, -6.461670e+01],\n",
       "       [ 4.940300e+00,  1.149481e+02],\n",
       "       [ 4.269750e+01,  2.332420e+01],\n",
       "       [ 1.236420e+01, -1.538300e+00],\n",
       "       [-3.382200e+00,  2.936440e+01],\n",
       "       [ 1.492150e+01, -2.350870e+01],\n",
       "       [ 1.156250e+01,  1.049160e+02],\n",
       "       [ 3.866700e+00,  1.151670e+01],\n",
       "       [ 4.541660e+01, -7.569800e+01],\n",
       "       [ 1.215000e+01, -6.826670e+01],\n",
       "       [ 1.928660e+01, -8.137440e+01],\n",
       "       [ 4.361200e+00,  1.855500e+01],\n",
       "       [ 1.210670e+01,  1.504440e+01],\n",
       "       [ 4.918800e+01, -2.104900e+00],\n",
       "       [ 4.945980e+01, -2.535300e+00],\n",
       "       [-3.345690e+01, -7.064830e+01],\n",
       "       [ 3.990750e+01,  1.163972e+02],\n",
       "       [ 2.227960e+01,  1.141887e+02],\n",
       "       [ 2.220060e+01,  1.135461e+02],\n",
       "       [ 2.504700e+01,  1.215457e+02],\n",
       "       [ 4.609700e+00, -7.408180e+01],\n",
       "       [-1.170220e+01,  4.325510e+01],\n",
       "       [-4.265800e+00,  1.528320e+01],\n",
       "       [-2.123000e+01, -1.597600e+02],\n",
       "       [ 9.927800e+00, -8.408070e+01],\n",
       "       [ 5.345300e+00, -4.026800e+00],\n",
       "       [ 4.581440e+01,  1.597800e+01],\n",
       "       [ 2.311950e+01, -8.237850e+01],\n",
       "       [ 1.210840e+01, -6.893350e+01],\n",
       "       [ 3.515950e+01,  3.336690e+01],\n",
       "       [ 5.008800e+01,  1.442080e+01],\n",
       "       [ 3.903390e+01,  1.257543e+02],\n",
       "       [-4.327600e+00,  1.531360e+01],\n",
       "       [ 5.567590e+01,  1.256550e+01],\n",
       "       [ 1.158770e+01,  4.314470e+01],\n",
       "       [ 1.530170e+01, -6.138810e+01],\n",
       "       [ 1.848960e+01, -6.990180e+01],\n",
       "       [-2.299000e-01, -7.852500e+01],\n",
       "       [ 3.003920e+01,  3.123940e+01],\n",
       "       [ 1.368940e+01, -8.918720e+01],\n",
       "       [ 3.750000e+00,  8.783300e+00],\n",
       "       [ 1.533330e+01,  3.893330e+01],\n",
       "       [ 5.943700e+01,  2.475350e+01],\n",
       "       [ 9.025000e+00,  3.874690e+01],\n",
       "       [ 6.200970e+01, -6.771600e+00],\n",
       "       [-5.170120e+01, -5.784940e+01],\n",
       "       [-1.814160e+01,  1.784415e+02],\n",
       "       [ 6.016920e+01,  2.494020e+01],\n",
       "       [ 4.885340e+01,  2.348800e+00],\n",
       "       [ 4.933300e+00, -5.233330e+01],\n",
       "       [-1.753330e+01, -1.495667e+02],\n",
       "       [ 3.925000e-01,  9.453700e+00],\n",
       "       [ 1.345310e+01, -1.667940e+01],\n",
       "       [ 4.169410e+01,  4.483370e+01],\n",
       "       [ 5.252440e+01,  1.341050e+01],\n",
       "       [ 5.556000e+00, -1.969000e-01],\n",
       "       [ 3.614470e+01, -5.352600e+00],\n",
       "       [ 3.795340e+01,  2.374900e+01],\n",
       "       [ 6.418350e+01, -5.172160e+01],\n",
       "       [ 1.205640e+01, -6.174850e+01],\n",
       "       [ 1.599850e+01, -6.172550e+01],\n",
       "       [ 1.347570e+01,  1.447489e+02],\n",
       "       [ 1.461270e+01, -9.053070e+01],\n",
       "       [ 9.571600e+00, -1.364760e+01],\n",
       "       [ 1.186360e+01, -1.559770e+01],\n",
       "       [ 6.804500e+00, -5.815530e+01],\n",
       "       [ 1.853920e+01, -7.233500e+01],\n",
       "       [ 4.190240e+01,  1.245330e+01],\n",
       "       [ 1.408180e+01, -8.720680e+01],\n",
       "       [ 4.749800e+01,  1.903990e+01],\n",
       "       [ 6.413550e+01, -2.189540e+01],\n",
       "       [ 2.866670e+01,  7.721670e+01],\n",
       "       [-6.211800e+00,  1.068416e+02],\n",
       "       [ 3.569440e+01,  5.142150e+01],\n",
       "       [ 3.334060e+01,  4.440090e+01],\n",
       "       [ 5.333310e+01, -6.248900e+00],\n",
       "       [ 5.415000e+01, -4.483300e+00],\n",
       "       [ 3.176900e+01,  3.521630e+01],\n",
       "       [ 4.189470e+01,  1.248110e+01],\n",
       "       [ 1.799700e+01, -7.679360e+01],\n",
       "       [ 3.568950e+01,  1.396917e+02],\n",
       "       [ 3.195520e+01,  3.594500e+01],\n",
       "       [ 5.118010e+01,  7.144600e+01],\n",
       "       [-1.283300e+00,  3.681670e+01],\n",
       "       [ 1.327200e+00,  1.729813e+02],\n",
       "       [ 2.936970e+01,  4.797830e+01],\n",
       "       [ 4.287000e+01,  7.459000e+01],\n",
       "       [ 1.796670e+01,  1.026000e+02],\n",
       "       [ 5.694600e+01,  2.410590e+01],\n",
       "       [ 3.390000e+01,  3.548330e+01],\n",
       "       [-2.931670e+01,  2.748330e+01],\n",
       "       [ 6.300500e+00, -1.079690e+01],\n",
       "       [ 3.287520e+01,  1.318750e+01],\n",
       "       [ 4.714150e+01,  9.521500e+00],\n",
       "       [ 5.468920e+01,  2.527980e+01],\n",
       "       [ 4.961170e+01,  6.130000e+00],\n",
       "       [-1.891370e+01,  4.753610e+01],\n",
       "       [-1.396690e+01,  3.378730e+01],\n",
       "       [ 3.141200e+00,  1.016865e+02],\n",
       "       [ 4.174800e+00,  7.350890e+01],\n",
       "       [ 1.265000e+01, -8.000000e+00],\n",
       "       [ 3.589970e+01,  1.451470e+01],\n",
       "       [ 7.089700e+00,  1.713803e+02],\n",
       "       [ 1.460890e+01, -6.107330e+01],\n",
       "       [ 1.808580e+01, -1.597850e+01],\n",
       "       [-2.016190e+01,  5.749890e+01],\n",
       "       [-1.277940e+01,  4.522720e+01],\n",
       "       [ 1.942730e+01, -9.914190e+01],\n",
       "       [ 6.917400e+00,  1.581588e+02],\n",
       "       [ 4.373330e+01,  7.416700e+00],\n",
       "       [ 4.790770e+01,  1.068832e+02],\n",
       "       [ 4.244110e+01,  1.926360e+01],\n",
       "       [ 1.679180e+01, -6.221060e+01],\n",
       "       [ 3.401330e+01, -6.832600e+00],\n",
       "       [-2.596530e+01,  3.258920e+01],\n",
       "       [ 1.974500e+01,  9.612970e+01],\n",
       "       [-2.255940e+01,  1.708320e+01],\n",
       "       [-5.308000e-01,  1.669112e+02],\n",
       "       [ 2.770170e+01,  8.532060e+01],\n",
       "       [ 5.237400e+01,  4.889700e+00],\n",
       "       [-2.227630e+01,  1.664572e+02],\n",
       "       [-4.128660e+01,  1.747756e+02],\n",
       "       [ 1.213280e+01, -8.625040e+01],\n",
       "       [ 1.351370e+01,  2.109800e+00],\n",
       "       [ 9.057400e+00,  7.489800e+00],\n",
       "       [-1.905850e+01, -1.699213e+02],\n",
       "       [ 1.521230e+01,  1.457545e+02],\n",
       "       [ 5.991270e+01,  1.074610e+01],\n",
       "       [ 2.361390e+01,  5.859220e+01],\n",
       "       [ 3.370350e+01,  7.305940e+01],\n",
       "       [ 7.342600e+00,  1.344789e+02],\n",
       "       [ 8.995800e+00, -7.951960e+01],\n",
       "       [-9.443100e+00,  1.471797e+02],\n",
       "       [-2.530070e+01, -5.763590e+01],\n",
       "       [-1.204320e+01, -7.702820e+01],\n",
       "       [ 1.460420e+01,  1.209822e+02],\n",
       "       [ 5.222980e+01,  2.101180e+01],\n",
       "       [ 3.871690e+01, -9.139900e+00],\n",
       "       [ 1.846630e+01, -6.610570e+01],\n",
       "       [ 2.527470e+01,  5.152450e+01],\n",
       "       [ 3.756830e+01,  1.269778e+02],\n",
       "       [ 4.700560e+01,  2.885750e+01],\n",
       "       [-2.088230e+01,  5.545040e+01],\n",
       "       [ 4.443280e+01,  2.610430e+01],\n",
       "       [ 5.575500e+01,  3.762180e+01],\n",
       "       [-1.947400e+00,  3.005790e+01],\n",
       "       [-1.593870e+01, -5.716800e+00],\n",
       "       [ 1.729480e+01, -6.272610e+01],\n",
       "       [ 1.400600e+01, -6.099100e+01],\n",
       "       [ 4.677380e+01, -5.618150e+01],\n",
       "       [ 1.315870e+01, -6.122480e+01],\n",
       "       [-1.383330e+01, -1.717667e+02],\n",
       "       [ 4.393330e+01,  1.245000e+01],\n",
       "       [ 3.365000e-01,  6.727300e+00],\n",
       "       [ 2.469050e+01,  4.670960e+01],\n",
       "       [ 1.469370e+01, -1.744410e+01],\n",
       "       [ 4.481760e+01,  2.046330e+01],\n",
       "       [-4.616700e+00,  5.545000e+01],\n",
       "       [ 8.484000e+00, -1.322990e+01],\n",
       "       [ 1.289700e+00,  1.038501e+02],\n",
       "       [ 1.802600e+01, -6.304580e+01],\n",
       "       [ 4.814820e+01,  1.710670e+01],\n",
       "       [ 4.605110e+01,  1.450510e+01],\n",
       "       [-9.433300e+00,  1.599500e+02],\n",
       "       [ 2.041600e+00,  4.534350e+01],\n",
       "       [-3.392580e+01,  1.842320e+01],\n",
       "       [ 4.851700e+00,  3.158250e+01],\n",
       "       [ 4.041650e+01, -3.702600e+00],\n",
       "       [ 6.931900e+00,  7.984780e+01],\n",
       "       [ 3.178340e+01,  3.523390e+01],\n",
       "       [ 1.555180e+01,  3.253240e+01],\n",
       "       [ 5.866400e+00, -5.516680e+01],\n",
       "       [-2.631670e+01,  3.113330e+01],\n",
       "       [ 5.933260e+01,  1.806490e+01],\n",
       "       [ 4.694810e+01,  7.447400e+00],\n",
       "       [ 3.350860e+01,  3.630840e+01],\n",
       "       [ 3.853580e+01,  6.877910e+01],\n",
       "       [ 4.200000e+01,  2.143330e+01],\n",
       "       [ 1.372200e+01,  1.005252e+02],\n",
       "       [-8.560100e+00,  1.255668e+02],\n",
       "       [ 6.137500e+00,  1.212300e+00],\n",
       "       [-9.380000e+00, -1.712500e+02],\n",
       "       [-2.113940e+01, -1.752032e+02],\n",
       "       [ 1.066620e+01, -6.151660e+01],\n",
       "       [ 3.681900e+01,  1.016580e+01],\n",
       "       [ 3.991990e+01,  3.285430e+01],\n",
       "       [ 3.795000e+01,  5.838330e+01],\n",
       "       [ 2.146120e+01, -7.114190e+01],\n",
       "       [-8.518900e+00,  1.791991e+02],\n",
       "       [ 3.163000e-01,  3.258220e+01],\n",
       "       [ 5.044540e+01,  3.051860e+01],\n",
       "       [ 2.446480e+01,  5.436180e+01],\n",
       "       [ 5.150850e+01, -1.257000e-01],\n",
       "       [-6.172200e+00,  3.573950e+01],\n",
       "       [ 1.834190e+01, -6.493070e+01],\n",
       "       [-3.483350e+01, -5.616740e+01],\n",
       "       [ 4.126470e+01,  6.921630e+01],\n",
       "       [-1.773380e+01,  1.683219e+02],\n",
       "       [ 1.048800e+01, -6.687920e+01],\n",
       "       [ 2.102450e+01,  1.058412e+02],\n",
       "       [-1.328160e+01, -1.761745e+02],\n",
       "       [ 2.715320e+01, -1.320140e+01],\n",
       "       [ 1.535310e+01,  4.420780e+01],\n",
       "       [-1.541340e+01,  2.827710e+01],\n",
       "       [-1.782940e+01,  3.105390e+01]])"
      ]
     },
     "execution_count": 148,
     "metadata": {},
     "output_type": "execute_result"
    }
   ],
   "source": [
    "# Exclude Washington DC from the coordinates array\n",
    "other_coords2 = coordinates[capitals['Capital City'] != 'Washington, D.C.']\n",
    "other_coords2"
   ]
  },
  {
   "cell_type": "code",
   "execution_count": 149,
   "metadata": {},
   "outputs": [
    {
     "data": {
      "text/plain": [
       "array([146.27407884,  96.88583853,  80.10705887, 107.70667337,\n",
       "        78.6405265 , 102.11333682,  24.95966902,  26.5524819 ,\n",
       "        75.82598431, 121.55781222,  27.28674776, 238.0185828 ,\n",
       "        93.87005187, 126.93705853,  13.84029864, 128.24795163,\n",
       "       168.13090517,  31.12608443, 105.67381678,  82.25916709,\n",
       "        24.6193073 ,  85.85587187,  13.92393276, 167.06967927,\n",
       "        56.10334401,  95.5213246 , 120.98026568,  61.93975896,\n",
       "        23.95023621, 194.96403946, 100.43260565,  80.02406987,\n",
       "       114.49235929,  58.6510713 , 183.99387731,  95.22940894,\n",
       "         6.65742269,  28.14619001,  20.08261727, 101.63811295,\n",
       "        95.89834255,  75.63513392,  75.24644036,  72.63346147,\n",
       "       193.43624935, 191.94560091, 191.31229871, 199.06436224,\n",
       "        34.41247324, 130.49954689, 101.91060707, 102.26544698,\n",
       "        29.81151844,  80.34918028,  93.27140676,  16.65555726,\n",
       "        27.98542988, 110.4664807 ,  92.13957045, 202.7907475 ,\n",
       "       101.96432854,  91.15972648, 123.24443554,  28.31108999,\n",
       "        21.61682094,  39.15330835, 108.63735928,  27.98158775,\n",
       "        92.73725768, 118.3390457 , 103.84196357, 119.57422562,\n",
       "        73.9690939 ,  92.60578029, 261.76734429, 104.17204173,\n",
       "        80.0073604 ,  41.99579751,  91.89564051,  94.67305638,\n",
       "        65.50009781, 121.90223819,  91.46802468,  83.76039845,\n",
       "        71.73654496, 100.78979935,  35.78187074,  30.8874684 ,\n",
       "        27.54410918, 223.23723971,  27.78004828,  69.8427349 ,\n",
       "        67.12239455,  37.23308402,  20.89176457,  89.54021588,\n",
       "        26.81672786,  96.46069308,  60.64328218, 154.59184657,\n",
       "       189.32974228, 128.49776867, 121.56426408,  72.24490294,\n",
       "        74.13949213, 112.47866446,  89.567742  ,  20.89951041,\n",
       "       216.75180553, 113.19434155, 148.98974574, 120.73455266,\n",
       "       252.82443993, 125.37706513, 151.67849224, 180.85141451,\n",
       "       102.7404489 , 112.63051945, 124.80872304,  73.82465245,\n",
       "        90.42450623,  86.94983131, 103.52805599,  83.85401365,\n",
       "       137.33231635, 122.78551839, 182.26413896, 154.49720575,\n",
       "        73.85681958,  91.60008915, 250.44448548,  29.0626921 ,\n",
       "        64.50654323, 146.92677154, 132.73523208,  29.45587152,\n",
       "       237.35912748,  84.59157333, 184.14028952,  96.36526405,\n",
       "        26.61503741,  70.37332951, 127.37599328, 174.22176821,\n",
       "       112.4062039 , 247.1129967 , 162.7423966 ,  83.02750512,\n",
       "       251.05990006, 264.26953733,  28.30403677,  83.11640296,\n",
       "        89.63797648, 109.48161673, 224.04611163,  90.2635409 ,\n",
       "       136.48674738, 150.18555819, 213.85575136,  30.0022403 ,\n",
       "       229.36748043,  67.06325475,  50.93830066, 199.50291669,\n",
       "        98.95081479,  67.89673385,  23.16929157, 129.28039412,\n",
       "       204.01851436, 106.20404073, 145.34816726, 103.28925461,\n",
       "       115.89115176, 114.6180566 ,  89.9623864 ,  25.91057016,\n",
       "        29.61287153,  22.29351403,  30.20544619, 108.41639131,\n",
       "        89.62811637,  92.21238025, 124.55859335,  64.31912609,\n",
       "        97.67941189, 139.44863902,  70.68312702, 184.75413931,\n",
       "        25.1248129 ,  94.59673957,  91.82077411, 241.86398664,\n",
       "       127.80853018, 120.06422743, 113.8289002 ,  73.34957996,\n",
       "       160.10714651, 112.49531785, 112.02781614,  39.61280636,\n",
       "       126.30622652,  97.27254838,  84.86673831, 113.47271949,\n",
       "       145.81594267,  98.51863896, 179.33713157, 208.08664699,\n",
       "        84.82876522, 105.86164416, 115.06894374,  32.21389432,\n",
       "        87.22691027, 109.89547835, 135.42299791,  18.40342358,\n",
       "       260.58533891, 116.20912733, 108.17341381, 132.18820114,\n",
       "        77.93813979, 121.44737605,  23.85334364,  76.62520224,\n",
       "       146.27189498, 251.80851394,  30.16839476, 183.74867326,\n",
       "       112.03022313,  64.90592762, 123.50863046, 118.49196789,\n",
       "       122.07039713])"
      ]
     },
     "execution_count": 149,
     "metadata": {},
     "output_type": "execute_result"
    }
   ],
   "source": [
    "# Calculate the distances\n",
    "distances2 = np.linalg.norm(other_coords2 - dc_coords, axis=1)\n",
    "distances2"
   ]
  },
  {
   "cell_type": "code",
   "execution_count": 150,
   "metadata": {},
   "outputs": [
    {
     "data": {
      "text/plain": [
       "array([215,  55,  22,  14,  36,  38,  94, 107,  64, 177], dtype=int64)"
      ]
     },
     "execution_count": 150,
     "metadata": {},
     "output_type": "execute_result"
    }
   ],
   "source": [
    "# Find the indices of the 10 closest cities\n",
    "closest_city_indices = np.argpartition(distances2, 10)[:10]\n",
    "closest_city_indices"
   ]
  },
  {
   "cell_type": "code",
   "execution_count": 154,
   "metadata": {},
   "outputs": [
    {
     "name": "stdout",
     "output_type": "stream",
     "text": [
      "Top 10 closest countries:\n",
      "['Turks and Caicos Islands' 'Cuba' 'Bermuda' 'Bahamas' 'Canada'\n",
      " 'Cayman Islands' 'Haiti' 'Jamaica' 'Dominican Republic'\n",
      " 'Saint Pierre and Miquelon']\n",
      "\n",
      "Coordinates of the top 10 closest cities:\n",
      "[[ 21.4612 -71.1419]\n",
      " [ 23.1195 -82.3785]\n",
      " [ 32.2915 -64.778 ]\n",
      " [ 25.0582 -77.3431]\n",
      " [ 45.4166 -75.698 ]\n",
      " [ 19.2866 -81.3744]\n",
      " [ 18.5392 -72.335 ]\n",
      " [ 17.997  -76.7936]\n",
      " [ 18.4896 -69.9018]\n",
      " [ 46.7738 -56.1815]]\n"
     ]
    }
   ],
   "source": [
    "# Get the names of the countries and the coordinates\n",
    "countries = capitals['Country'][closest_city_indices].values\n",
    "closest_city_coordinates = other_coords2[closest_city_indices]\n",
    "\n",
    "# Print the results\n",
    "print(\"Top 10 closest countries:\")\n",
    "print(countries)\n",
    "print(\"\\nCoordinates of the top 10 closest cities:\")\n",
    "print(closest_city_coordinates)"
   ]
  }
 ],
 "metadata": {
  "kernelspec": {
   "display_name": "Python 3",
   "language": "python",
   "name": "python3"
  },
  "language_info": {
   "codemirror_mode": {
    "name": "ipython",
    "version": 3
   },
   "file_extension": ".py",
   "mimetype": "text/x-python",
   "name": "python",
   "nbconvert_exporter": "python",
   "pygments_lexer": "ipython3",
   "version": "3.8.5"
  }
 },
 "nbformat": 4,
 "nbformat_minor": 5
}
